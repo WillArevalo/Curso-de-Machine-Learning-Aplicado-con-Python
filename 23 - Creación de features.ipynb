{
 "cells": [
  {
   "cell_type": "markdown",
   "metadata": {},
   "source": [
    "# Curso de Machine Learning Aplicado con Python"
   ]
  },
  {
   "cell_type": "markdown",
   "metadata": {},
   "source": [
    "![Machine-Learning](assets/Machine-Learning.jpg)"
   ]
  },
  {
   "cell_type": "markdown",
   "metadata": {},
   "source": [
    "## Escalamiento de los datos"
   ]
  },
  {
   "cell_type": "code",
   "execution_count": 1,
   "metadata": {
    "collapsed": true
   },
   "outputs": [],
   "source": [
    "%matplotlib inline\n",
    "import numpy as np\n",
    "import pandas as pd\n",
    "import matplotlib.pyplot as plt"
   ]
  },
  {
   "cell_type": "markdown",
   "metadata": {},
   "source": [
    "Diversos algoritmos son sensibles a la escala en la que viene cada feature. **Re-escalarlos** puede traer significativas mejoras de rendimiento. "
   ]
  },
  {
   "cell_type": "markdown",
   "metadata": {},
   "source": [
    "Existen distintas estrategias de escalamiento de tus features, **pero la más común es la estandarización** donde convertimos la variable para que la distribución de esta siga una distribución que es Gaussiana de media 0 y de desviación estandar 1.\n",
    "\n",
    "En nuestro caso haremos la estandarizacion, por lo que haremos una resta del promedio(media)(este proceso se llama llevarlo a cero, o centrarlo en cero) y el otro es dividir por la desviacion estandar(Lo cual singnifica que haremos cambio de escala, y estaremos compantando nuestros datos en el espacio)"
   ]
  },
  {
   "cell_type": "code",
   "execution_count": 2,
   "metadata": {
    "collapsed": true
   },
   "outputs": [],
   "source": [
    "from sklearn.model_selection import train_test_split\n",
    "\n",
    "X = pd.read_csv('X.csv')\n",
    "y = X['Worldwide Gross']\n",
    "X = X.drop('Worldwide Gross',axis=1)\n",
    "X_train, X_test, y_train, y_test = train_test_split(X,y)"
   ]
  },
  {
   "cell_type": "code",
   "execution_count": 3,
   "metadata": {},
   "outputs": [
    {
     "data": {
      "text/html": [
       "<div>\n",
       "<style>\n",
       "    .dataframe thead tr:only-child th {\n",
       "        text-align: right;\n",
       "    }\n",
       "\n",
       "    .dataframe thead th {\n",
       "        text-align: left;\n",
       "    }\n",
       "\n",
       "    .dataframe tbody tr th {\n",
       "        vertical-align: top;\n",
       "    }\n",
       "</style>\n",
       "<table border=\"1\" class=\"dataframe\">\n",
       "  <thead>\n",
       "    <tr style=\"text-align: right;\">\n",
       "      <th></th>\n",
       "      <th>Production Budget</th>\n",
       "      <th>num_critic_for_reviews</th>\n",
       "      <th>duration</th>\n",
       "      <th>director_facebook_likes</th>\n",
       "      <th>actor_3_facebook_likes</th>\n",
       "      <th>actor_1_facebook_likes</th>\n",
       "      <th>gross</th>\n",
       "      <th>num_voted_users</th>\n",
       "      <th>cast_total_facebook_likes</th>\n",
       "      <th>facenumber_in_poster</th>\n",
       "      <th>num_user_for_reviews</th>\n",
       "      <th>budget</th>\n",
       "      <th>title_year</th>\n",
       "      <th>actor_2_facebook_likes</th>\n",
       "      <th>imdb_score</th>\n",
       "      <th>aspect_ratio</th>\n",
       "      <th>movie_facebook_likes</th>\n",
       "    </tr>\n",
       "  </thead>\n",
       "  <tbody>\n",
       "    <tr>\n",
       "      <th>0</th>\n",
       "      <td>425000000.0</td>\n",
       "      <td>7.230000e+02</td>\n",
       "      <td>1.780000e+02</td>\n",
       "      <td>0.000000e+00</td>\n",
       "      <td>8.550000e+02</td>\n",
       "      <td>1.000000e+03</td>\n",
       "      <td>7.605058e+08</td>\n",
       "      <td>8.862040e+05</td>\n",
       "      <td>4.834000e+03</td>\n",
       "      <td>0.000000e+00</td>\n",
       "      <td>3.054000e+03</td>\n",
       "      <td>2.370000e+08</td>\n",
       "      <td>2.009000e+03</td>\n",
       "      <td>9.360000e+02</td>\n",
       "      <td>7.900000e+01</td>\n",
       "      <td>1.780000e+02</td>\n",
       "      <td>3.300000e+04</td>\n",
       "    </tr>\n",
       "    <tr>\n",
       "      <th>1</th>\n",
       "      <td>410600000.0</td>\n",
       "      <td>4.480000e+02</td>\n",
       "      <td>1.360000e+02</td>\n",
       "      <td>2.520000e+02</td>\n",
       "      <td>1.000000e+03</td>\n",
       "      <td>4.000000e+04</td>\n",
       "      <td>2.410639e+08</td>\n",
       "      <td>3.707040e+05</td>\n",
       "      <td>5.408300e+04</td>\n",
       "      <td>4.000000e+00</td>\n",
       "      <td>4.840000e+02</td>\n",
       "      <td>2.500000e+08</td>\n",
       "      <td>2.011000e+03</td>\n",
       "      <td>1.100000e+04</td>\n",
       "      <td>6.700000e+01</td>\n",
       "      <td>2.350000e+02</td>\n",
       "      <td>5.800000e+04</td>\n",
       "    </tr>\n",
       "    <tr>\n",
       "      <th>2</th>\n",
       "      <td>330600000.0</td>\n",
       "      <td>6.350000e+02</td>\n",
       "      <td>1.410000e+02</td>\n",
       "      <td>0.000000e+00</td>\n",
       "      <td>1.900000e+04</td>\n",
       "      <td>2.600000e+04</td>\n",
       "      <td>4.589916e+08</td>\n",
       "      <td>4.626690e+05</td>\n",
       "      <td>9.200000e+04</td>\n",
       "      <td>4.000000e+00</td>\n",
       "      <td>1.117000e+03</td>\n",
       "      <td>2.500000e+08</td>\n",
       "      <td>2.015000e+03</td>\n",
       "      <td>2.100000e+04</td>\n",
       "      <td>7.500000e+01</td>\n",
       "      <td>2.350000e+02</td>\n",
       "      <td>1.180000e+05</td>\n",
       "    </tr>\n",
       "    <tr>\n",
       "      <th>3</th>\n",
       "      <td>306000000.0</td>\n",
       "      <td>1.182331e+09</td>\n",
       "      <td>1.182331e+09</td>\n",
       "      <td>1.182331e+09</td>\n",
       "      <td>1.182331e+09</td>\n",
       "      <td>1.182331e+09</td>\n",
       "      <td>1.182331e+09</td>\n",
       "      <td>1.182331e+09</td>\n",
       "      <td>1.182331e+09</td>\n",
       "      <td>1.182331e+09</td>\n",
       "      <td>1.182331e+09</td>\n",
       "      <td>1.182331e+09</td>\n",
       "      <td>1.182331e+09</td>\n",
       "      <td>1.182331e+09</td>\n",
       "      <td>1.182331e+09</td>\n",
       "      <td>1.182331e+09</td>\n",
       "      <td>1.182331e+09</td>\n",
       "    </tr>\n",
       "    <tr>\n",
       "      <th>4</th>\n",
       "      <td>300000000.0</td>\n",
       "      <td>6.317102e+08</td>\n",
       "      <td>6.317102e+08</td>\n",
       "      <td>6.317102e+08</td>\n",
       "      <td>6.317102e+08</td>\n",
       "      <td>6.317102e+08</td>\n",
       "      <td>6.317102e+08</td>\n",
       "      <td>6.317102e+08</td>\n",
       "      <td>6.317102e+08</td>\n",
       "      <td>6.317102e+08</td>\n",
       "      <td>6.317102e+08</td>\n",
       "      <td>6.317102e+08</td>\n",
       "      <td>6.317102e+08</td>\n",
       "      <td>6.317102e+08</td>\n",
       "      <td>6.317102e+08</td>\n",
       "      <td>6.317102e+08</td>\n",
       "      <td>6.317102e+08</td>\n",
       "    </tr>\n",
       "  </tbody>\n",
       "</table>\n",
       "</div>"
      ],
      "text/plain": [
       "   Production Budget  num_critic_for_reviews      duration  \\\n",
       "0        425000000.0            7.230000e+02  1.780000e+02   \n",
       "1        410600000.0            4.480000e+02  1.360000e+02   \n",
       "2        330600000.0            6.350000e+02  1.410000e+02   \n",
       "3        306000000.0            1.182331e+09  1.182331e+09   \n",
       "4        300000000.0            6.317102e+08  6.317102e+08   \n",
       "\n",
       "   director_facebook_likes  actor_3_facebook_likes  actor_1_facebook_likes  \\\n",
       "0             0.000000e+00            8.550000e+02            1.000000e+03   \n",
       "1             2.520000e+02            1.000000e+03            4.000000e+04   \n",
       "2             0.000000e+00            1.900000e+04            2.600000e+04   \n",
       "3             1.182331e+09            1.182331e+09            1.182331e+09   \n",
       "4             6.317102e+08            6.317102e+08            6.317102e+08   \n",
       "\n",
       "          gross  num_voted_users  cast_total_facebook_likes  \\\n",
       "0  7.605058e+08     8.862040e+05               4.834000e+03   \n",
       "1  2.410639e+08     3.707040e+05               5.408300e+04   \n",
       "2  4.589916e+08     4.626690e+05               9.200000e+04   \n",
       "3  1.182331e+09     1.182331e+09               1.182331e+09   \n",
       "4  6.317102e+08     6.317102e+08               6.317102e+08   \n",
       "\n",
       "   facenumber_in_poster  num_user_for_reviews        budget    title_year  \\\n",
       "0          0.000000e+00          3.054000e+03  2.370000e+08  2.009000e+03   \n",
       "1          4.000000e+00          4.840000e+02  2.500000e+08  2.011000e+03   \n",
       "2          4.000000e+00          1.117000e+03  2.500000e+08  2.015000e+03   \n",
       "3          1.182331e+09          1.182331e+09  1.182331e+09  1.182331e+09   \n",
       "4          6.317102e+08          6.317102e+08  6.317102e+08  6.317102e+08   \n",
       "\n",
       "   actor_2_facebook_likes    imdb_score  aspect_ratio  movie_facebook_likes  \n",
       "0            9.360000e+02  7.900000e+01  1.780000e+02          3.300000e+04  \n",
       "1            1.100000e+04  6.700000e+01  2.350000e+02          5.800000e+04  \n",
       "2            2.100000e+04  7.500000e+01  2.350000e+02          1.180000e+05  \n",
       "3            1.182331e+09  1.182331e+09  1.182331e+09          1.182331e+09  \n",
       "4            6.317102e+08  6.317102e+08  6.317102e+08          6.317102e+08  "
      ]
     },
     "execution_count": 3,
     "metadata": {},
     "output_type": "execute_result"
    }
   ],
   "source": [
    "X.head()"
   ]
  },
  {
   "cell_type": "code",
   "execution_count": 4,
   "metadata": {},
   "outputs": [
    {
     "data": {
      "text/plain": [
       "StandardScaler(copy=True, with_mean=True, with_std=True)"
      ]
     },
     "execution_count": 4,
     "metadata": {},
     "output_type": "execute_result"
    }
   ],
   "source": [
    "# Con esto reescalaremos nuestras features\n",
    "from sklearn.preprocessing import StandardScaler\n",
    "\n",
    "scaler = StandardScaler()\n",
    "scaler.fit(X_train)"
   ]
  },
  {
   "cell_type": "code",
   "execution_count": 5,
   "metadata": {},
   "outputs": [
    {
     "data": {
      "text/plain": [
       "array([ 33221635.28568267,  13370520.51006713,  13419652.27281048,\n",
       "        13369516.17642363,  13377289.96879919,  13374405.13152893,\n",
       "        47906187.60455537,  13439142.98483236,  13376973.32410857,\n",
       "        13371846.34658946,  13369162.06707741,  41673395.38166273,\n",
       "        13370496.99361362,  13370384.4559036 ,  13368982.82783395,\n",
       "        13450506.07320325,  13375187.58116019])"
      ]
     },
     "execution_count": 5,
     "metadata": {},
     "output_type": "execute_result"
    }
   ],
   "source": [
    "#Este scaler tiene un promedio para cada feature\n",
    "scaler.mean_"
   ]
  },
  {
   "cell_type": "code",
   "execution_count": 6,
   "metadata": {},
   "outputs": [
    {
     "data": {
      "text/plain": [
       "array([ 41568033.38859654,  56597304.79020395,  56625633.11883712,\n",
       "        56597513.9526988 ,  56596413.69949395,  56596360.08179743,\n",
       "        75995004.32471675,  56581207.41958504,  56595754.20923752,\n",
       "        56597210.23999845,  56597597.53671691,  87312035.44323926,\n",
       "        56597282.21729369,  56597309.00593046,  56597639.87358741,\n",
       "        56619987.40130648,  56596177.04120433])"
      ]
     },
     "execution_count": 6,
     "metadata": {},
     "output_type": "execute_result"
    }
   ],
   "source": [
    "#Scale que posee la desviación estandar de cada feature\n",
    "scaler.scale_"
   ]
  },
  {
   "cell_type": "code",
   "execution_count": 7,
   "metadata": {},
   "outputs": [
    {
     "data": {
      "text/plain": [
       "array([[-0.43835692, -0.23623878, -0.23698739, ..., -0.23621008,\n",
       "        -0.23755429, -0.23632233],\n",
       "       [-0.70298335, -0.23623631, -0.23698752, ..., -0.23620978,\n",
       "        -0.23755341, -0.2363267 ],\n",
       "       [-0.12561661,  0.21307937,  0.21210511, ...,  0.21310528,\n",
       "         0.21158133,  0.21300115],\n",
       "       ..., \n",
       "       [-0.52255624, -0.23623674, -0.23698708, ..., -0.2362099 ,\n",
       "        -0.23755341, -0.23613234],\n",
       "       [ 0.47580708, -0.23623815, -0.23698596, ..., -0.23620992,\n",
       "        -0.23755429, -0.23631163],\n",
       "       [-0.7270403 , -0.20546122, -0.2062261 , ..., -0.20543284,\n",
       "        -0.20679159, -0.20554778]])"
      ]
     },
     "execution_count": 7,
     "metadata": {},
     "output_type": "execute_result"
    }
   ],
   "source": [
    "#Con el metodo transform transformamos por medio de la estandarización\n",
    "scaler.transform(X_train)\n",
    "# Al comparar con los datos de el dataset de X_train(sgte celda) vemos que los valores realmente\n",
    "# se centraron en cero y que son diferentes"
   ]
  },
  {
   "cell_type": "code",
   "execution_count": 8,
   "metadata": {},
   "outputs": [
    {
     "data": {
      "text/plain": [
       "array([[  1.50000000e+07,   4.20000000e+01,   9.10000000e+01, ...,\n",
       "          5.00000000e+01,   1.85000000e+02,   2.47000000e+02],\n",
       "       [  4.00000000e+06,   1.82000000e+02,   8.40000000e+01, ...,\n",
       "          6.70000000e+01,   2.35000000e+02,   0.00000000e+00],\n",
       "       [  2.80000000e+07,   2.54302385e+07,   2.54302385e+07, ...,\n",
       "          2.54302385e+07,   2.54302385e+07,   2.54302385e+07],\n",
       "       ..., \n",
       "       [  1.15000000e+07,   1.58000000e+02,   1.09000000e+02, ...,\n",
       "          6.00000000e+01,   2.35000000e+02,   1.10000000e+04],\n",
       "       [  5.30000000e+07,   7.80000000e+01,   1.72000000e+02, ...,\n",
       "          5.90000000e+01,   1.85000000e+02,   8.53000000e+02],\n",
       "       [  3.00000000e+06,   1.74196900e+06,   1.74196900e+06, ...,\n",
       "          1.74196900e+06,   1.74196900e+06,   1.74196900e+06]])"
      ]
     },
     "execution_count": 8,
     "metadata": {},
     "output_type": "execute_result"
    }
   ],
   "source": [
    "X_train.values"
   ]
  },
  {
   "cell_type": "code",
   "execution_count": 9,
   "metadata": {
    "collapsed": true
   },
   "outputs": [],
   "source": [
    "# Probaremos reescalar los datasets, y entrenaremos nuevamente el modelo\n",
    "X_train_scaled, X_test_scaled = (scaler.transform(X_train), scaler.transform(X_test))"
   ]
  },
  {
   "cell_type": "code",
   "execution_count": 10,
   "metadata": {},
   "outputs": [
    {
     "name": "stderr",
     "output_type": "stream",
     "text": [
      "C:\\Users\\willa\\Anaconda3\\lib\\site-packages\\sklearn\\linear_model\\coordinate_descent.py:491: ConvergenceWarning: Objective did not converge. You might want to increase the number of iterations. Fitting data with very small alpha may cause precision problems.\n",
      "  ConvergenceWarning)\n"
     ]
    },
    {
     "data": {
      "text/plain": [
       "Lasso(alpha=1.0, copy_X=True, fit_intercept=True, max_iter=1000,\n",
       "   normalize=False, positive=False, precompute=False, random_state=None,\n",
       "   selection='cyclic', tol=0.0001, warm_start=False)"
      ]
     },
     "execution_count": 10,
     "metadata": {},
     "output_type": "execute_result"
    }
   ],
   "source": [
    "# Hacemos todo el respectivo proceso para entrenar de nuevo nuestro modelo\n",
    "from sklearn.linear_model import Lasso\n",
    "\n",
    "model = Lasso()\n",
    "model_scaled = Lasso()\n",
    "\n",
    "model.fit(X_train,y_train)\n",
    "model_scaled.fit(X_train_scaled,y_train)\n"
   ]
  },
  {
   "cell_type": "code",
   "execution_count": 11,
   "metadata": {},
   "outputs": [
    {
     "name": "stdout",
     "output_type": "stream",
     "text": [
      "modelo normal   0.901819282634\n",
      "modelo escalado 0.901819288345\n"
     ]
    }
   ],
   "source": [
    "# Imprimimos nuestros resultados\n",
    "print(\"modelo normal  \",model.score(X_test,y_test))\n",
    "print(\"modelo escalado\",model_scaled.score(X_test_scaled,y_test))"
   ]
  },
  {
   "cell_type": "markdown",
   "metadata": {},
   "source": [
    "### El escalamiento es muy importante pero hay una clase de algoritmos de ML que no se ven afectados que son lo de regresion, esta claro que los de clasificacion SI."
   ]
  },
  {
   "cell_type": "markdown",
   "metadata": {},
   "source": [
    "## Simplificar las transformaciones con pipelines"
   ]
  },
  {
   "cell_type": "markdown",
   "metadata": {},
   "source": [
    "Para hacer tu código más reproducible, y para evitar tener que aplicar multiples veces una misma transformación te recomendamos utilizar  `sklearn.pipeline.make_pipeline` que permite encadenar transformaciones a tus modelos."
   ]
  },
  {
   "cell_type": "code",
   "execution_count": 13,
   "metadata": {},
   "outputs": [
    {
     "name": "stderr",
     "output_type": "stream",
     "text": [
      "C:\\Users\\willa\\Anaconda3\\lib\\site-packages\\sklearn\\linear_model\\coordinate_descent.py:491: ConvergenceWarning: Objective did not converge. You might want to increase the number of iterations. Fitting data with very small alpha may cause precision problems.\n",
      "  ConvergenceWarning)\n"
     ]
    },
    {
     "data": {
      "text/plain": [
       "Pipeline(memory=None,\n",
       "     steps=[('standardscaler', StandardScaler(copy=True, with_mean=True, with_std=True)), ('lasso', Lasso(alpha=1.0, copy_X=True, fit_intercept=True, max_iter=1000,\n",
       "   normalize=False, positive=False, precompute=False, random_state=None,\n",
       "   selection='cyclic', tol=0.0001, warm_start=False))])"
      ]
     },
     "execution_count": 13,
     "metadata": {},
     "output_type": "execute_result"
    }
   ],
   "source": [
    "# Importamos los pipelines de SKlearn\n",
    "from sklearn.pipeline import make_pipeline\n",
    "\n",
    "model_scaled = make_pipeline(StandardScaler(),\n",
    "                            Lasso())\n",
    "model_scaled.fit(X_train, y_train)"
   ]
  },
  {
   "cell_type": "code",
   "execution_count": 15,
   "metadata": {},
   "outputs": [
    {
     "name": "stdout",
     "output_type": "stream",
     "text": [
      "El score con pipeline 0.9018192883451379\n"
     ]
    }
   ],
   "source": [
    "print(\"El score con pipeline {}\".format(model_scaled.score(X_test, y_test)))"
   ]
  },
  {
   "cell_type": "markdown",
   "metadata": {},
   "source": [
    "## Crear nuevas features de forma automática"
   ]
  },
  {
   "cell_type": "code",
   "execution_count": 17,
   "metadata": {},
   "outputs": [
    {
     "data": {
      "text/plain": [
       "array([[0, 1],\n",
       "       [2, 3],\n",
       "       [4, 5]])"
      ]
     },
     "execution_count": 17,
     "metadata": {},
     "output_type": "execute_result"
    }
   ],
   "source": [
    "# Creamos 6 numeros y los reformamos creando una matrix\n",
    "A = np.arange(6).reshape(3,2)\n",
    "A"
   ]
  },
  {
   "cell_type": "code",
   "execution_count": 18,
   "metadata": {},
   "outputs": [
    {
     "data": {
      "text/plain": [
       "array([[  1.,   0.,   1.,   0.,   0.,   1.],\n",
       "       [  1.,   2.,   3.,   4.,   6.,   9.],\n",
       "       [  1.,   4.,   5.,  16.,  20.,  25.]])"
      ]
     },
     "execution_count": 18,
     "metadata": {},
     "output_type": "execute_result"
    }
   ],
   "source": [
    "from sklearn.preprocessing import PolynomialFeatures\n",
    "#transformer = PolynomialFeatures(grado del polinomio)\n",
    "transformer = PolynomialFeatures(2)\n",
    "transformer.fit(A)\n",
    "transformer.transform(A)"
   ]
  },
  {
   "cell_type": "markdown",
   "metadata": {},
   "source": [
    "PolynomialFeatures transforma una matriz (A1,A2) a (1,A1,A2,$A1^2$,A1*A2,$A2^2$)"
   ]
  },
  {
   "cell_type": "code",
   "execution_count": 19,
   "metadata": {},
   "outputs": [
    {
     "data": {
      "text/plain": [
       "(5011, 17)"
      ]
     },
     "execution_count": 19,
     "metadata": {},
     "output_type": "execute_result"
    }
   ],
   "source": [
    "X.shape"
   ]
  },
  {
   "cell_type": "code",
   "execution_count": 22,
   "metadata": {},
   "outputs": [],
   "source": [
    "trnasformer = PolynomialFeatures(2)\n",
    "XTransformer=transformer.fit_transform(X)"
   ]
  },
  {
   "cell_type": "code",
   "execution_count": 24,
   "metadata": {},
   "outputs": [
    {
     "data": {
      "text/plain": [
       "(5011, 171)"
      ]
     },
     "execution_count": 24,
     "metadata": {},
     "output_type": "execute_result"
    }
   ],
   "source": [
    "XTransformer.shape"
   ]
  },
  {
   "cell_type": "markdown",
   "metadata": {},
   "source": [
    "Una creacion de features muy grandes no es buena, hasta 36 todavia esta bien"
   ]
  },
  {
   "cell_type": "code",
   "execution_count": 25,
   "metadata": {},
   "outputs": [
    {
     "name": "stderr",
     "output_type": "stream",
     "text": [
      "C:\\Users\\willa\\Anaconda3\\lib\\site-packages\\sklearn\\linear_model\\coordinate_descent.py:491: ConvergenceWarning: Objective did not converge. You might want to increase the number of iterations. Fitting data with very small alpha may cause precision problems.\n",
      "  ConvergenceWarning)\n"
     ]
    },
    {
     "data": {
      "text/plain": [
       "0.92373311585222129"
      ]
     },
     "execution_count": 25,
     "metadata": {},
     "output_type": "execute_result"
    }
   ],
   "source": [
    "#Con pipelines\n",
    "model_poly = make_pipeline(PolynomialFeatures(2),\n",
    "                          Lasso())\n",
    "model_poly.fit(X_train,y_train)\n",
    "model_poly.score(X_test,y_test)"
   ]
  },
  {
   "cell_type": "code",
   "execution_count": null,
   "metadata": {
    "collapsed": true
   },
   "outputs": [],
   "source": []
  }
 ],
 "metadata": {
  "kernelspec": {
   "display_name": "Python 3",
   "language": "python",
   "name": "python3"
  },
  "language_info": {
   "codemirror_mode": {
    "name": "ipython",
    "version": 3
   },
   "file_extension": ".py",
   "mimetype": "text/x-python",
   "name": "python",
   "nbconvert_exporter": "python",
   "pygments_lexer": "ipython3",
   "version": "3.6.2"
  }
 },
 "nbformat": 4,
 "nbformat_minor": 2
}
