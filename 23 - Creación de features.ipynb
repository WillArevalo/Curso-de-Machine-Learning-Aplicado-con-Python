{
 "cells": [
  {
   "cell_type": "markdown",
   "metadata": {},
   "source": [
    "# Curso de Machine Learning Aplicado con Python"
   ]
  },
  {
   "cell_type": "markdown",
   "metadata": {},
   "source": [
    "![Machine-Learning](assets/Machine-Learning.jpg)"
   ]
  },
  {
   "cell_type": "markdown",
   "metadata": {},
   "source": [
    "## Escalamiento de los datos"
   ]
  },
  {
   "cell_type": "code",
   "execution_count": 1,
   "metadata": {
    "collapsed": true
   },
   "outputs": [],
   "source": [
    "%matplotlib inline\n",
    "import numpy as np\n",
    "import pandas as pd\n",
    "import matplotlib.pyplot as plt"
   ]
  },
  {
   "cell_type": "markdown",
   "metadata": {},
   "source": [
    "Diversos algoritmos son sensibles a la escala en la que viene cada feature. **Re-escalarlos** puede traer significativas mejoras de rendimiento. "
   ]
  },
  {
   "cell_type": "markdown",
   "metadata": {},
   "source": [
    "Existen distintas estrategias de escalamiento de tus features, **pero la más común es la estandarización** donde convertimos la variable para que la distribución de esta siga una distribución que es Gaussiana de media 0 y de desviación estandar 1.\n",
    "\n",
    "En nuestro caso haremos la estandarizacion, por lo que haremos una resta del promedio(media)(este proceso se llama llevarlo a cero, o centrarlo en cero) y el otro es dividir por la desviacion estandar(Lo cual singnifica que haremos cambio de escala, y estaremos compantando nuestros datos en el espacio)"
   ]
  },
  {
   "cell_type": "code",
   "execution_count": 2,
   "metadata": {
    "collapsed": true
   },
   "outputs": [],
   "source": [
    "from sklearn.model_selection import train_test_split\n",
    "\n",
    "X = pd.read_csv('X.csv')\n",
    "y = X['Worldwide Gross']\n",
    "X = X.drop('Worldwide Gross',axis=1)\n",
    "X_train, X_test, y_train, y_test = train_test_split(X,y)"
   ]
  },
  {
   "cell_type": "code",
   "execution_count": 3,
   "metadata": {},
   "outputs": [
    {
     "data": {
      "text/html": [
       "<div>\n",
       "<style>\n",
       "    .dataframe thead tr:only-child th {\n",
       "        text-align: right;\n",
       "    }\n",
       "\n",
       "    .dataframe thead th {\n",
       "        text-align: left;\n",
       "    }\n",
       "\n",
       "    .dataframe tbody tr th {\n",
       "        vertical-align: top;\n",
       "    }\n",
       "</style>\n",
       "<table border=\"1\" class=\"dataframe\">\n",
       "  <thead>\n",
       "    <tr style=\"text-align: right;\">\n",
       "      <th></th>\n",
       "      <th>Production Budget</th>\n",
       "      <th>num_critic_for_reviews</th>\n",
       "      <th>duration</th>\n",
       "      <th>director_facebook_likes</th>\n",
       "      <th>actor_3_facebook_likes</th>\n",
       "      <th>actor_1_facebook_likes</th>\n",
       "      <th>gross</th>\n",
       "      <th>num_voted_users</th>\n",
       "      <th>cast_total_facebook_likes</th>\n",
       "      <th>facenumber_in_poster</th>\n",
       "      <th>num_user_for_reviews</th>\n",
       "      <th>budget</th>\n",
       "      <th>title_year</th>\n",
       "      <th>actor_2_facebook_likes</th>\n",
       "      <th>imdb_score</th>\n",
       "      <th>aspect_ratio</th>\n",
       "      <th>movie_facebook_likes</th>\n",
       "    </tr>\n",
       "  </thead>\n",
       "  <tbody>\n",
       "    <tr>\n",
       "      <th>0</th>\n",
       "      <td>425000000.0</td>\n",
       "      <td>7.230000e+02</td>\n",
       "      <td>1.780000e+02</td>\n",
       "      <td>0.000000e+00</td>\n",
       "      <td>8.550000e+02</td>\n",
       "      <td>1.000000e+03</td>\n",
       "      <td>7.605058e+08</td>\n",
       "      <td>8.862040e+05</td>\n",
       "      <td>4.834000e+03</td>\n",
       "      <td>0.000000e+00</td>\n",
       "      <td>3.054000e+03</td>\n",
       "      <td>2.370000e+08</td>\n",
       "      <td>2.009000e+03</td>\n",
       "      <td>9.360000e+02</td>\n",
       "      <td>7.900000e+01</td>\n",
       "      <td>1.780000e+02</td>\n",
       "      <td>3.300000e+04</td>\n",
       "    </tr>\n",
       "    <tr>\n",
       "      <th>1</th>\n",
       "      <td>410600000.0</td>\n",
       "      <td>4.480000e+02</td>\n",
       "      <td>1.360000e+02</td>\n",
       "      <td>2.520000e+02</td>\n",
       "      <td>1.000000e+03</td>\n",
       "      <td>4.000000e+04</td>\n",
       "      <td>2.410639e+08</td>\n",
       "      <td>3.707040e+05</td>\n",
       "      <td>5.408300e+04</td>\n",
       "      <td>4.000000e+00</td>\n",
       "      <td>4.840000e+02</td>\n",
       "      <td>2.500000e+08</td>\n",
       "      <td>2.011000e+03</td>\n",
       "      <td>1.100000e+04</td>\n",
       "      <td>6.700000e+01</td>\n",
       "      <td>2.350000e+02</td>\n",
       "      <td>5.800000e+04</td>\n",
       "    </tr>\n",
       "    <tr>\n",
       "      <th>2</th>\n",
       "      <td>330600000.0</td>\n",
       "      <td>6.350000e+02</td>\n",
       "      <td>1.410000e+02</td>\n",
       "      <td>0.000000e+00</td>\n",
       "      <td>1.900000e+04</td>\n",
       "      <td>2.600000e+04</td>\n",
       "      <td>4.589916e+08</td>\n",
       "      <td>4.626690e+05</td>\n",
       "      <td>9.200000e+04</td>\n",
       "      <td>4.000000e+00</td>\n",
       "      <td>1.117000e+03</td>\n",
       "      <td>2.500000e+08</td>\n",
       "      <td>2.015000e+03</td>\n",
       "      <td>2.100000e+04</td>\n",
       "      <td>7.500000e+01</td>\n",
       "      <td>2.350000e+02</td>\n",
       "      <td>1.180000e+05</td>\n",
       "    </tr>\n",
       "    <tr>\n",
       "      <th>3</th>\n",
       "      <td>306000000.0</td>\n",
       "      <td>1.182331e+09</td>\n",
       "      <td>1.182331e+09</td>\n",
       "      <td>1.182331e+09</td>\n",
       "      <td>1.182331e+09</td>\n",
       "      <td>1.182331e+09</td>\n",
       "      <td>1.182331e+09</td>\n",
       "      <td>1.182331e+09</td>\n",
       "      <td>1.182331e+09</td>\n",
       "      <td>1.182331e+09</td>\n",
       "      <td>1.182331e+09</td>\n",
       "      <td>1.182331e+09</td>\n",
       "      <td>1.182331e+09</td>\n",
       "      <td>1.182331e+09</td>\n",
       "      <td>1.182331e+09</td>\n",
       "      <td>1.182331e+09</td>\n",
       "      <td>1.182331e+09</td>\n",
       "    </tr>\n",
       "    <tr>\n",
       "      <th>4</th>\n",
       "      <td>300000000.0</td>\n",
       "      <td>6.317102e+08</td>\n",
       "      <td>6.317102e+08</td>\n",
       "      <td>6.317102e+08</td>\n",
       "      <td>6.317102e+08</td>\n",
       "      <td>6.317102e+08</td>\n",
       "      <td>6.317102e+08</td>\n",
       "      <td>6.317102e+08</td>\n",
       "      <td>6.317102e+08</td>\n",
       "      <td>6.317102e+08</td>\n",
       "      <td>6.317102e+08</td>\n",
       "      <td>6.317102e+08</td>\n",
       "      <td>6.317102e+08</td>\n",
       "      <td>6.317102e+08</td>\n",
       "      <td>6.317102e+08</td>\n",
       "      <td>6.317102e+08</td>\n",
       "      <td>6.317102e+08</td>\n",
       "    </tr>\n",
       "  </tbody>\n",
       "</table>\n",
       "</div>"
      ],
      "text/plain": [
       "   Production Budget  num_critic_for_reviews      duration  \\\n",
       "0        425000000.0            7.230000e+02  1.780000e+02   \n",
       "1        410600000.0            4.480000e+02  1.360000e+02   \n",
       "2        330600000.0            6.350000e+02  1.410000e+02   \n",
       "3        306000000.0            1.182331e+09  1.182331e+09   \n",
       "4        300000000.0            6.317102e+08  6.317102e+08   \n",
       "\n",
       "   director_facebook_likes  actor_3_facebook_likes  actor_1_facebook_likes  \\\n",
       "0             0.000000e+00            8.550000e+02            1.000000e+03   \n",
       "1             2.520000e+02            1.000000e+03            4.000000e+04   \n",
       "2             0.000000e+00            1.900000e+04            2.600000e+04   \n",
       "3             1.182331e+09            1.182331e+09            1.182331e+09   \n",
       "4             6.317102e+08            6.317102e+08            6.317102e+08   \n",
       "\n",
       "          gross  num_voted_users  cast_total_facebook_likes  \\\n",
       "0  7.605058e+08     8.862040e+05               4.834000e+03   \n",
       "1  2.410639e+08     3.707040e+05               5.408300e+04   \n",
       "2  4.589916e+08     4.626690e+05               9.200000e+04   \n",
       "3  1.182331e+09     1.182331e+09               1.182331e+09   \n",
       "4  6.317102e+08     6.317102e+08               6.317102e+08   \n",
       "\n",
       "   facenumber_in_poster  num_user_for_reviews        budget    title_year  \\\n",
       "0          0.000000e+00          3.054000e+03  2.370000e+08  2.009000e+03   \n",
       "1          4.000000e+00          4.840000e+02  2.500000e+08  2.011000e+03   \n",
       "2          4.000000e+00          1.117000e+03  2.500000e+08  2.015000e+03   \n",
       "3          1.182331e+09          1.182331e+09  1.182331e+09  1.182331e+09   \n",
       "4          6.317102e+08          6.317102e+08  6.317102e+08  6.317102e+08   \n",
       "\n",
       "   actor_2_facebook_likes    imdb_score  aspect_ratio  movie_facebook_likes  \n",
       "0            9.360000e+02  7.900000e+01  1.780000e+02          3.300000e+04  \n",
       "1            1.100000e+04  6.700000e+01  2.350000e+02          5.800000e+04  \n",
       "2            2.100000e+04  7.500000e+01  2.350000e+02          1.180000e+05  \n",
       "3            1.182331e+09  1.182331e+09  1.182331e+09          1.182331e+09  \n",
       "4            6.317102e+08  6.317102e+08  6.317102e+08          6.317102e+08  "
      ]
     },
     "execution_count": 3,
     "metadata": {},
     "output_type": "execute_result"
    }
   ],
   "source": [
    "X.head()"
   ]
  },
  {
   "cell_type": "code",
   "execution_count": 4,
   "metadata": {},
   "outputs": [
    {
     "data": {
      "text/plain": [
       "StandardScaler(copy=True, with_mean=True, with_std=True)"
      ]
     },
     "execution_count": 4,
     "metadata": {},
     "output_type": "execute_result"
    }
   ],
   "source": [
    "# Con esto reescalaremos nuestras features\n",
    "from sklearn.preprocessing import StandardScaler\n",
    "\n",
    "scaler = StandardScaler()\n",
    "scaler.fit(X_train)"
   ]
  },
  {
   "cell_type": "code",
   "execution_count": 5,
   "metadata": {},
   "outputs": [
    {
     "data": {
      "text/plain": [
       "array([ 33478231.23229023,  13268011.51751692,  13296337.25153134,\n",
       "        13266972.59207025,  13270823.47770806,  13272292.80316278,\n",
       "        49169081.25653887,  13339085.19398616,  13274974.29457158,\n",
       "        13307437.27003667,  13267052.80221749,  40732385.93361535,\n",
       "        13267931.33794572,  13267895.48277959,  13266410.81293241,\n",
       "        13332781.66614841,  13272715.97977648])"
      ]
     },
     "execution_count": 5,
     "metadata": {},
     "output_type": "execute_result"
    }
   ],
   "source": [
    "#Este scaler tiene un promedio para cada feature\n",
    "scaler.mean_"
   ]
  },
  {
   "cell_type": "code",
   "execution_count": 6,
   "metadata": {},
   "outputs": [
    {
     "data": {
      "text/plain": [
       "array([ 41356849.9237843 ,  56012181.59079051,  56031565.34095719,\n",
       "        56012397.92356259,  56011763.67957454,  56011139.94201123,\n",
       "        77340540.72308433,  55995474.07151392,  56010505.70691894,\n",
       "        56031532.42475814,  56012385.95927721,  69478396.76066345,\n",
       "        56012170.7877817 ,  56012179.49700035,  56012530.91361116,\n",
       "        56027449.6885215 ,  56011040.62466475])"
      ]
     },
     "execution_count": 6,
     "metadata": {},
     "output_type": "execute_result"
    }
   ],
   "source": [
    "#Scale que posee la desviación estandar de cada feature\n",
    "scaler.scale_"
   ]
  },
  {
   "cell_type": "code",
   "execution_count": 7,
   "metadata": {},
   "outputs": [
    {
     "data": {
      "text/plain": [
       "array([[ 2.57567414, -0.23687241, -0.23729828, ..., -0.23684575,\n",
       "        -0.23796455, -0.23678753],\n",
       "       [ 0.66547063, -0.23687384, -0.23729918, ..., -0.23684607,\n",
       "        -0.23796544, -0.23696607],\n",
       "       [-0.74904717, -0.23687686, -0.23729894, ..., -0.23684609,\n",
       "        -0.23796455, -0.23696607],\n",
       "       ..., \n",
       "       [ 0.39949292, -0.23687559, -0.23729871, ..., -0.23684612,\n",
       "        -0.23796544, -0.23695325],\n",
       "       [ 0.13351522, -0.23687232, -0.23729871, ..., -0.23684577,\n",
       "        -0.23796455, -0.23671612],\n",
       "       [-0.56769873, -0.23687595, -0.23729885, ..., -0.23684589,\n",
       "        -0.23796455, -0.23695991]])"
      ]
     },
     "execution_count": 7,
     "metadata": {},
     "output_type": "execute_result"
    }
   ],
   "source": [
    "#Con el metodo transform transformamos por medio de la estandarización\n",
    "scaler.transform(X_train)\n",
    "# Al comparar con los datos de el dataset de X_train(sgte celda) vemos que los valores realmente\n",
    "# se centraron en cero y que son diferentes"
   ]
  },
  {
   "cell_type": "code",
   "execution_count": 8,
   "metadata": {},
   "outputs": [
    {
     "data": {
      "text/plain": [
       "array([[  1.40000000e+08,   2.71000000e+02,   1.43000000e+02, ...,\n",
       "          8.10000000e+01,   2.35000000e+02,   1.00000000e+04],\n",
       "       [  6.10000000e+07,   1.91000000e+02,   9.30000000e+01, ...,\n",
       "          6.30000000e+01,   1.85000000e+02,   0.00000000e+00],\n",
       "       [  2.50000000e+06,   2.20000000e+01,   1.06000000e+02, ...,\n",
       "          6.20000000e+01,   2.35000000e+02,   0.00000000e+00],\n",
       "       ..., \n",
       "       [  5.00000000e+07,   9.30000000e+01,   1.19000000e+02, ...,\n",
       "          6.00000000e+01,   1.85000000e+02,   7.18000000e+02],\n",
       "       [  3.90000000e+07,   2.76000000e+02,   1.19000000e+02, ...,\n",
       "          8.00000000e+01,   2.35000000e+02,   1.40000000e+04],\n",
       "       [  1.00000000e+07,   7.30000000e+01,   1.11000000e+02, ...,\n",
       "          7.30000000e+01,   2.35000000e+02,   3.45000000e+02]])"
      ]
     },
     "execution_count": 8,
     "metadata": {},
     "output_type": "execute_result"
    }
   ],
   "source": [
    "X_train.values"
   ]
  },
  {
   "cell_type": "code",
   "execution_count": 9,
   "metadata": {
    "collapsed": true
   },
   "outputs": [],
   "source": [
    "# Probaremos reescalar los datasets, y entrenaremos nuevamente el modelo\n",
    "X_train_scaled, X_test_scaled = (scaler.transform(X_train), scaler.transform(X_test))"
   ]
  },
  {
   "cell_type": "code",
   "execution_count": 10,
   "metadata": {},
   "outputs": [
    {
     "name": "stderr",
     "output_type": "stream",
     "text": [
      "C:\\Users\\willa\\Anaconda3\\lib\\site-packages\\sklearn\\linear_model\\coordinate_descent.py:491: ConvergenceWarning: Objective did not converge. You might want to increase the number of iterations. Fitting data with very small alpha may cause precision problems.\n",
      "  ConvergenceWarning)\n"
     ]
    },
    {
     "data": {
      "text/plain": [
       "Lasso(alpha=1.0, copy_X=True, fit_intercept=True, max_iter=1000,\n",
       "   normalize=False, positive=False, precompute=False, random_state=None,\n",
       "   selection='cyclic', tol=0.0001, warm_start=False)"
      ]
     },
     "execution_count": 10,
     "metadata": {},
     "output_type": "execute_result"
    }
   ],
   "source": [
    "# Hacemos todo el respectivo proceso para entrenar de nuevo nuestro modelo\n",
    "from sklearn.linear_model import Lasso\n",
    "\n",
    "model = Lasso()\n",
    "model_scaled = Lasso()\n",
    "\n",
    "model.fit(X_train,y_train)\n",
    "model_scaled.fit(X_train_scaled,y_train)\n"
   ]
  },
  {
   "cell_type": "code",
   "execution_count": 11,
   "metadata": {},
   "outputs": [
    {
     "name": "stdout",
     "output_type": "stream",
     "text": [
      "modelo normal   0.904716470205\n",
      "modelo escalado 0.904716464098\n"
     ]
    }
   ],
   "source": [
    "# Imprimimos nuestros resultados\n",
    "print(\"modelo normal  \",model.score(X_test,y_test))\n",
    "print(\"modelo escalado\",model_scaled.score(X_test_scaled,y_test))"
   ]
  },
  {
   "cell_type": "markdown",
   "metadata": {},
   "source": [
    "### El escalamiento es muy importante pero hay una clase de algoritmos de ML que no se ven afectados que son lo de regresion, esta claro que los de clasificacion SI."
   ]
  },
  {
   "cell_type": "markdown",
   "metadata": {},
   "source": [
    "## Simplificar las transformaciones con pipelines"
   ]
  },
  {
   "cell_type": "markdown",
   "metadata": {},
   "source": [
    "Para hacer tu código más reproducible, y para evitar tener que aplicar multiples veces una misma transformación te recomendamos utilizar  `sklearn.pipeline.make_pipeline` que permite encadenar transformaciones a tus modelos."
   ]
  },
  {
   "cell_type": "code",
   "execution_count": 12,
   "metadata": {},
   "outputs": [
    {
     "name": "stderr",
     "output_type": "stream",
     "text": [
      "C:\\Users\\willa\\Anaconda3\\lib\\site-packages\\sklearn\\linear_model\\coordinate_descent.py:491: ConvergenceWarning: Objective did not converge. You might want to increase the number of iterations. Fitting data with very small alpha may cause precision problems.\n",
      "  ConvergenceWarning)\n"
     ]
    },
    {
     "data": {
      "text/plain": [
       "Pipeline(memory=None,\n",
       "     steps=[('standardscaler', StandardScaler(copy=True, with_mean=True, with_std=True)), ('lasso', Lasso(alpha=1.0, copy_X=True, fit_intercept=True, max_iter=1000,\n",
       "   normalize=False, positive=False, precompute=False, random_state=None,\n",
       "   selection='cyclic', tol=0.0001, warm_start=False))])"
      ]
     },
     "execution_count": 12,
     "metadata": {},
     "output_type": "execute_result"
    }
   ],
   "source": [
    "# Importamos los pipelines de SKlearn\n",
    "from sklearn.pipeline import make_pipeline\n",
    "\n",
    "model_scaled = make_pipeline(StandardScaler(),\n",
    "                            Lasso())\n",
    "model_scaled.fit(X_train, y_train)"
   ]
  },
  {
   "cell_type": "code",
   "execution_count": 13,
   "metadata": {},
   "outputs": [
    {
     "name": "stdout",
     "output_type": "stream",
     "text": [
      "El score con pipeline 0.9047164640982722\n"
     ]
    }
   ],
   "source": [
    "print(\"El score con pipeline {}\".format(model_scaled.score(X_test, y_test)))"
   ]
  },
  {
   "cell_type": "markdown",
   "metadata": {},
   "source": [
    "## Crear nuevas features de forma automática"
   ]
  },
  {
   "cell_type": "code",
   "execution_count": 14,
   "metadata": {},
   "outputs": [
    {
     "data": {
      "text/plain": [
       "array([[0, 1],\n",
       "       [2, 3],\n",
       "       [4, 5]])"
      ]
     },
     "execution_count": 14,
     "metadata": {},
     "output_type": "execute_result"
    }
   ],
   "source": [
    "# Creamos 6 numeros y los reformamos creando una matrix\n",
    "A = np.arange(6).reshape(3,2)\n",
    "A"
   ]
  },
  {
   "cell_type": "code",
   "execution_count": 15,
   "metadata": {},
   "outputs": [
    {
     "data": {
      "text/plain": [
       "array([[  1.,   0.,   1.,   0.,   0.,   1.],\n",
       "       [  1.,   2.,   3.,   4.,   6.,   9.],\n",
       "       [  1.,   4.,   5.,  16.,  20.,  25.]])"
      ]
     },
     "execution_count": 15,
     "metadata": {},
     "output_type": "execute_result"
    }
   ],
   "source": [
    "from sklearn.preprocessing import PolynomialFeatures\n",
    "#transformer = PolynomialFeatures(grado del polinomio)\n",
    "transformer = PolynomialFeatures(2)\n",
    "transformer.fit(A)\n",
    "transformer.transform(A)"
   ]
  },
  {
   "cell_type": "markdown",
   "metadata": {},
   "source": [
    "PolynomialFeatures transforma una matriz (A1,A2) a (1,A1,A2,$A1^2$,A1*A2,$A2^2$)"
   ]
  },
  {
   "cell_type": "code",
   "execution_count": 16,
   "metadata": {},
   "outputs": [
    {
     "data": {
      "text/plain": [
       "(5011, 17)"
      ]
     },
     "execution_count": 16,
     "metadata": {},
     "output_type": "execute_result"
    }
   ],
   "source": [
    "X.shape"
   ]
  },
  {
   "cell_type": "code",
   "execution_count": 17,
   "metadata": {
    "collapsed": true
   },
   "outputs": [],
   "source": [
    "trnasformer = PolynomialFeatures(2)\n",
    "XTransformer=transformer.fit_transform(X)"
   ]
  },
  {
   "cell_type": "code",
   "execution_count": 18,
   "metadata": {},
   "outputs": [
    {
     "data": {
      "text/plain": [
       "(5011, 171)"
      ]
     },
     "execution_count": 18,
     "metadata": {},
     "output_type": "execute_result"
    }
   ],
   "source": [
    "XTransformer.shape"
   ]
  },
  {
   "cell_type": "markdown",
   "metadata": {},
   "source": [
    "Una creacion de features muy grandes no es buena, hasta 36 todavia esta bien"
   ]
  },
  {
   "cell_type": "code",
   "execution_count": 19,
   "metadata": {},
   "outputs": [
    {
     "name": "stderr",
     "output_type": "stream",
     "text": [
      "C:\\Users\\willa\\Anaconda3\\lib\\site-packages\\sklearn\\linear_model\\coordinate_descent.py:491: ConvergenceWarning: Objective did not converge. You might want to increase the number of iterations. Fitting data with very small alpha may cause precision problems.\n",
      "  ConvergenceWarning)\n"
     ]
    },
    {
     "data": {
      "text/plain": [
       "0.88167637640473007"
      ]
     },
     "execution_count": 19,
     "metadata": {},
     "output_type": "execute_result"
    }
   ],
   "source": [
    "#Con pipelines\n",
    "model_poly = make_pipeline(PolynomialFeatures(2),\n",
    "                          Lasso())\n",
    "model_poly.fit(X_train,y_train)\n",
    "model_poly.score(X_test,y_test)"
   ]
  },
  {
   "cell_type": "code",
   "execution_count": 20,
   "metadata": {},
   "outputs": [
    {
     "name": "stderr",
     "output_type": "stream",
     "text": [
      "C:\\Users\\willa\\Anaconda3\\lib\\site-packages\\sklearn\\linear_model\\coordinate_descent.py:491: ConvergenceWarning: Objective did not converge. You might want to increase the number of iterations. Fitting data with very small alpha may cause precision problems.\n",
      "  ConvergenceWarning)\n"
     ]
    },
    {
     "data": {
      "text/plain": [
       "0.90471647020454815"
      ]
     },
     "execution_count": 20,
     "metadata": {},
     "output_type": "execute_result"
    }
   ],
   "source": [
    "model = Lasso()\n",
    "model.fit(X_train,y_train)\n",
    "model.score(X_test,y_test)"
   ]
  },
  {
   "cell_type": "markdown",
   "metadata": {},
   "source": [
    "## Crear features categóricas"
   ]
  },
  {
   "cell_type": "markdown",
   "metadata": {},
   "source": [
    "En terminos de Machine Learning a las features que pueden tomar un número finito de valores se les llama categóricas. Ejemplos para esto són: género, páis, grado académico, etc. "
   ]
  },
  {
   "cell_type": "markdown",
   "metadata": {
    "collapsed": true
   },
   "source": [
    "Un mapeo del tipo *{Perú,Chile,Colombia,Venezuela}→{1,2,3,4}* tiene el problema de asignarle un ordén a los valores posibles de la categoría. Este orden impacta de distintas maneras los algoritmos de Machine Learning, por ejemplo aquellos que dependen de la topología de $R^n$\n",
    "\n",
    "y de la función de distancia entre puntos en este espacio, considerarán que ciertas categorías se encuentran más cercanas unas de otras, siendo que esto es generado puramente artificialmente por el encoding, y no por las datos per se.\n",
    "\n",
    "Para no introducir información falsa o erronéa en nuestro modelos existen formas más inteligentes de encodear nuestros datos.\n",
    "\n",
    "***Encoding one-hot***\n",
    "\n",
    "Este encoding consiste en asignarle una columna a cada categoría y rellenarla con 0 y 1 de la forma siguiente:"
   ]
  },
  {
   "cell_type": "code",
   "execution_count": 22,
   "metadata": {},
   "outputs": [
    {
     "data": {
      "text/html": [
       "<div>\n",
       "<style>\n",
       "    .dataframe thead tr:only-child th {\n",
       "        text-align: right;\n",
       "    }\n",
       "\n",
       "    .dataframe thead th {\n",
       "        text-align: left;\n",
       "    }\n",
       "\n",
       "    .dataframe tbody tr th {\n",
       "        vertical-align: top;\n",
       "    }\n",
       "</style>\n",
       "<table border=\"1\" class=\"dataframe\">\n",
       "  <thead>\n",
       "    <tr style=\"text-align: right;\">\n",
       "      <th></th>\n",
       "      <th>pais</th>\n",
       "      <th>genero</th>\n",
       "    </tr>\n",
       "  </thead>\n",
       "  <tbody>\n",
       "    <tr>\n",
       "      <th>0</th>\n",
       "      <td>Chile</td>\n",
       "      <td>hombre</td>\n",
       "    </tr>\n",
       "    <tr>\n",
       "      <th>1</th>\n",
       "      <td>Colombia</td>\n",
       "      <td>mujer</td>\n",
       "    </tr>\n",
       "    <tr>\n",
       "      <th>2</th>\n",
       "      <td>Colombia</td>\n",
       "      <td>hombre</td>\n",
       "    </tr>\n",
       "    <tr>\n",
       "      <th>3</th>\n",
       "      <td>Venezuela</td>\n",
       "      <td>mujer</td>\n",
       "    </tr>\n",
       "  </tbody>\n",
       "</table>\n",
       "</div>"
      ],
      "text/plain": [
       "        pais  genero\n",
       "0      Chile  hombre\n",
       "1   Colombia   mujer\n",
       "2   Colombia  hombre\n",
       "3  Venezuela   mujer"
      ]
     },
     "execution_count": 22,
     "metadata": {},
     "output_type": "execute_result"
    }
   ],
   "source": [
    "d = pd.DataFrame([['Chile','Colombia','Colombia','Venezuela'],['hombre','mujer','hombre','mujer']])\n",
    "d = d.T\n",
    "d.columns = pd.Index(['pais','genero'])\n",
    "d"
   ]
  },
  {
   "cell_type": "code",
   "execution_count": 23,
   "metadata": {},
   "outputs": [
    {
     "data": {
      "text/html": [
       "<div>\n",
       "<style>\n",
       "    .dataframe thead tr:only-child th {\n",
       "        text-align: right;\n",
       "    }\n",
       "\n",
       "    .dataframe thead th {\n",
       "        text-align: left;\n",
       "    }\n",
       "\n",
       "    .dataframe tbody tr th {\n",
       "        vertical-align: top;\n",
       "    }\n",
       "</style>\n",
       "<table border=\"1\" class=\"dataframe\">\n",
       "  <thead>\n",
       "    <tr style=\"text-align: right;\">\n",
       "      <th></th>\n",
       "      <th>pais_Chile</th>\n",
       "      <th>pais_Colombia</th>\n",
       "      <th>pais_Venezuela</th>\n",
       "      <th>genero_hombre</th>\n",
       "      <th>genero_mujer</th>\n",
       "    </tr>\n",
       "  </thead>\n",
       "  <tbody>\n",
       "    <tr>\n",
       "      <th>0</th>\n",
       "      <td>1</td>\n",
       "      <td>0</td>\n",
       "      <td>0</td>\n",
       "      <td>1</td>\n",
       "      <td>0</td>\n",
       "    </tr>\n",
       "    <tr>\n",
       "      <th>1</th>\n",
       "      <td>0</td>\n",
       "      <td>1</td>\n",
       "      <td>0</td>\n",
       "      <td>0</td>\n",
       "      <td>1</td>\n",
       "    </tr>\n",
       "    <tr>\n",
       "      <th>2</th>\n",
       "      <td>0</td>\n",
       "      <td>1</td>\n",
       "      <td>0</td>\n",
       "      <td>1</td>\n",
       "      <td>0</td>\n",
       "    </tr>\n",
       "    <tr>\n",
       "      <th>3</th>\n",
       "      <td>0</td>\n",
       "      <td>0</td>\n",
       "      <td>1</td>\n",
       "      <td>0</td>\n",
       "      <td>1</td>\n",
       "    </tr>\n",
       "  </tbody>\n",
       "</table>\n",
       "</div>"
      ],
      "text/plain": [
       "   pais_Chile  pais_Colombia  pais_Venezuela  genero_hombre  genero_mujer\n",
       "0           1              0               0              1             0\n",
       "1           0              1               0              0             1\n",
       "2           0              1               0              1             0\n",
       "3           0              0               1              0             1"
      ]
     },
     "execution_count": 23,
     "metadata": {},
     "output_type": "execute_result"
    }
   ],
   "source": [
    "pd.get_dummies(d)"
   ]
  },
  {
   "cell_type": "code",
   "execution_count": null,
   "metadata": {
    "collapsed": true
   },
   "outputs": [],
   "source": []
  }
 ],
 "metadata": {
  "kernelspec": {
   "display_name": "Python 3",
   "language": "python",
   "name": "python3"
  },
  "language_info": {
   "codemirror_mode": {
    "name": "ipython",
    "version": 3
   },
   "file_extension": ".py",
   "mimetype": "text/x-python",
   "name": "python",
   "nbconvert_exporter": "python",
   "pygments_lexer": "ipython3",
   "version": "3.6.2"
  }
 },
 "nbformat": 4,
 "nbformat_minor": 2
}
